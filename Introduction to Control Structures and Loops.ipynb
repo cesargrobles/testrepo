{
 "cells": [
  {
   "metadata": {
    "ExecuteTime": {
     "end_time": "2025-07-04T06:52:25.197218Z",
     "start_time": "2025-07-04T06:52:22.561310Z"
    },
    "tags": [
     "Exercise 1",
     "Given a numerical variable, print a message explaining if the value is negative, positive or zero."
    ]
   },
   "cell_type": "code",
   "source": [
    "a = int(input(\"Enter a number: \"))\n",
    "if a > 0:\n",
    "    print(\"Your variable is positive\")\n",
    "elif a == 0:\n",
    "    print(\"Your variable is zero\")\n",
    "else:\n",
    "    print(\"Your variable is negative\")"
   ],
   "id": "24e3ebada3e67eb6",
   "outputs": [
    {
     "name": "stdout",
     "output_type": "stream",
     "text": [
      "Your variable is negative\n"
     ]
    }
   ],
   "execution_count": 10
  },
  {
   "metadata": {
    "tags": [
     "Exercise 2",
     "Ask for a name to the user. Show \"Congrats\" if the first character is an \"A\"."
    ],
    "ExecuteTime": {
     "end_time": "2025-07-04T06:55:06.027170Z",
     "start_time": "2025-07-04T06:55:03.279406Z"
    }
   },
   "cell_type": "code",
   "source": [
    "name = input(\"Enter your name: \")\n",
    "name = str(name.lower())\n",
    "if name[0] == \"a\":\n",
    "    print(\"Congrats\")"
   ],
   "id": "f402e3bb6c50902d",
   "outputs": [],
   "execution_count": 12
  },
  {
   "metadata": {
    "ExecuteTime": {
     "end_time": "2025-07-04T06:57:10.177435Z",
     "start_time": "2025-07-04T06:57:06.542542Z"
    },
    "tags": [
     "Exercise 3",
     "Ask for a name to the user. Show \"Congrats\" if the first character is a vowel."
    ]
   },
   "cell_type": "code",
   "source": [
    "name = input(\"Enter your name: \")\n",
    "name = str(name.lower())\n",
    "if name[0] == \"a\":\n",
    "    print(\"Congrats\")\n",
    "elif name[0] == \"b\":\n",
    "    print(\"Congrats\")\n",
    "elif name[0] == \"c\":\n",
    "    print(\"Congrats\")\n",
    "elif name[0] == \"d\":\n",
    "    print(\"Congrats\")\n",
    "elif name[0] == \"e\":\n",
    "    print(\"Congrats\")"
   ],
   "id": "1c0b6113b2675fb7",
   "outputs": [],
   "execution_count": 14
  },
  {
   "metadata": {
    "tags": [
     "Exercise 1.2",
     "Given a lot of client's balances in a Bank office, show a message every time that you identify a negative balance."
    ],
    "ExecuteTime": {
     "end_time": "2025-07-04T07:03:43.368687Z",
     "start_time": "2025-07-04T07:03:43.359340Z"
    }
   },
   "cell_type": "code",
   "source": [
    "balances = (-347, 296, 415, 97, -13, -40)\n",
    "for balance in balances:\n",
    "    if balance < 0:\n",
    "        print(\"Insufficient balance\")"
   ],
   "id": "73c1481a6e84559e",
   "outputs": [
    {
     "name": "stdout",
     "output_type": "stream",
     "text": [
      "Insufficient balance\n",
      "Insufficient balance\n",
      "Insufficient balance\n"
     ]
    }
   ],
   "execution_count": 15
  },
  {
   "metadata": {
    "tags": [
     "Exercise 2.1",
     "Given a lot of ages in a list for a lot of clients (we can assume that all the values are positive), show how many clients are adults (greater than 18 in Spain)."
    ],
    "ExecuteTime": {
     "end_time": "2025-07-04T07:04:57.379068Z",
     "start_time": "2025-07-04T07:04:57.373774Z"
    }
   },
   "cell_type": "code",
   "source": [
    "ages = (12, 17, 21, 32, 44, 57, 89)\n",
    "for age in ages:\n",
    "    if age >= 18:\n",
    "        print(\"You are an adult\")\n",
    "\n"
   ],
   "id": "77251b46d28686c3",
   "outputs": [
    {
     "name": "stdout",
     "output_type": "stream",
     "text": [
      "You are an adult\n",
      "You are an adult\n",
      "You are an adult\n",
      "You are an adult\n",
      "You are an adult\n"
     ]
    }
   ],
   "execution_count": 16
  },
  {
   "metadata": {
    "ExecuteTime": {
     "end_time": "2025-07-04T07:12:35.024058Z",
     "start_time": "2025-07-04T07:12:32.191478Z"
    },
    "tags": [
     "Exercise 3.1",
     "Ask for names until the user says \"Pablo\"."
    ]
   },
   "cell_type": "code",
   "source": [
    "name = input(\"Enter your name: \")\n",
    "name = name.lower().strip()\n",
    "while name != \"pablo\":\n",
    "        name = input(\"Enter your name: \")\n",
    "        name = name.lower().strip()\n",
    "print(\"Ok. You are a Pablo\")"
   ],
   "id": "6006cbcf9e8bbedc",
   "outputs": [
    {
     "name": "stdout",
     "output_type": "stream",
     "text": [
      "Ok. You are a Pablo\n"
     ]
    }
   ],
   "execution_count": 25
  },
  {
   "metadata": {},
   "cell_type": "code",
   "outputs": [],
   "execution_count": null,
   "source": "",
   "id": "b9b0a7cd4fde45ae"
  }
 ],
 "metadata": {},
 "nbformat": 4,
 "nbformat_minor": 5
}
